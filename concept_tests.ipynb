{
 "cells": [
  {
   "cell_type": "code",
   "execution_count": 1,
   "id": "9efc99e9",
   "metadata": {},
   "outputs": [],
   "source": [
    "import json\n",
    "import matplotlib.pyplot as plt\n",
    "import numpy as np\n",
    "import pandas as pd\n",
    "import random\n",
    "import re\n",
    "import scipy\n",
    "import seaborn as sns\n",
    "import sklearn\n",
    "import textdistance\n",
    "import torch\n",
    "import warnings\n",
    "\n",
    "from pprint import pprint\n",
    "from tabulate import tabulate\n",
    "from tqdm.auto import tqdm\n",
    "from transformers import pipeline, AutoTokenizer, AutoModelForMaskedLM, logging as transformers_logging"
   ]
  },
  {
   "cell_type": "code",
   "execution_count": 2,
   "id": "04158d54",
   "metadata": {},
   "outputs": [],
   "source": [
    "warnings.filterwarnings('ignore')\n",
    "transformers_logging.set_verbosity_error()"
   ]
  },
  {
   "cell_type": "markdown",
   "id": "f92919a4",
   "metadata": {},
   "source": [
    "### Load RoBERTa model trained on Russian rental ads"
   ]
  },
  {
   "cell_type": "code",
   "execution_count": 3,
   "id": "706e9e69",
   "metadata": {},
   "outputs": [],
   "source": [
    "tokenizer = AutoTokenizer.from_pretrained(\"rafagudinov/ru_rent_estate_ads\")\n",
    "model = AutoModelForMaskedLM.from_pretrained(\"rafagudinov/ru_rent_estate_ads\")\n",
    "\n",
    "fill_mask_ru = pipeline(\n",
    "    \"fill-mask\",\n",
    "    model=model,\n",
    "    tokenizer=tokenizer,\n",
    "    device=(0 if torch.cuda.is_available() else -1)\n",
    ")"
   ]
  },
  {
   "cell_type": "markdown",
   "id": "8bc51ab6",
   "metadata": {},
   "source": [
    "### Load RoBERTa model trained on English rental ads"
   ]
  },
  {
   "cell_type": "code",
   "execution_count": 4,
   "id": "5a41e527",
   "metadata": {},
   "outputs": [],
   "source": [
    "tokenizer = AutoTokenizer.from_pretrained(\"rafagudinov/en_rent_estate_ads\")\n",
    "model = AutoModelForMaskedLM.from_pretrained(\"rafagudinov/en_rent_estate_ads\")\n",
    "\n",
    "fill_mask_en = pipeline(\n",
    "    \"fill-mask\",\n",
    "    model=model,\n",
    "    tokenizer=tokenizer\n",
    ")"
   ]
  },
  {
   "cell_type": "markdown",
   "id": "2f3daa09",
   "metadata": {},
   "source": [
    "# Setting hypothesis"
   ]
  },
  {
   "cell_type": "markdown",
   "id": "febd3b62",
   "metadata": {},
   "source": [
    "According to the distributional hypothesis, similar words tend to be in the same context. So intuitively, we can assume, reverse hypothesis, that **similar contexts tend to have the same words**.\n",
    "\n",
    "If this hypothesis is correct, we can set in advance a reference context where the desired value may be located, and then find similar contexts in the analyzed text. It will give us the most probable positions in the text, where the sought-for feature value seats.\n",
    "\n",
    "Let's state we need to extract the number of rooms from a fuzzy Russian text. First, let's set up a reference context where the number of rooms is likely to be."
   ]
  },
  {
   "cell_type": "markdown",
   "id": "230bcac9",
   "metadata": {},
   "source": [
    "### Setup reference context for Russian example"
   ]
  },
  {
   "cell_type": "code",
   "execution_count": 5,
   "id": "37057178",
   "metadata": {},
   "outputs": [],
   "source": [
    "context_text = \"\"\"\n",
    "Сдается <mask> квартира\n",
    "\"\"\"\n",
    "ref_context_tokens_ru = fill_mask_ru(context_text, top_k=100)"
   ]
  },
  {
   "cell_type": "markdown",
   "id": "6944327c",
   "metadata": {},
   "source": [
    "### Helper function to parse text "
   ]
  },
  {
   "cell_type": "code",
   "execution_count": 6,
   "id": "d9aa8cf4",
   "metadata": {},
   "outputs": [],
   "source": [
    "def parse_text(text, fill_mask_func, ref_context_tokens, dist_func):\n",
    "    result = {\"tokens\": [], \"dists\": []}\n",
    "    \n",
    "    tokens = re.split(r\"(\\W)\", text)\n",
    "    \n",
    "    for i in range(len(tokens)):\n",
    "        if not tokens[i].isalnum():\n",
    "            continue\n",
    "\n",
    "        masked_text = \"\"\n",
    "\n",
    "        for j in range(len(tokens)):\n",
    "            if i == j:\n",
    "                masked_text += \"<mask>\"\n",
    "            else:\n",
    "                masked_text += tokens[j]\n",
    "\n",
    "        pos_context_tokens = fill_mask_func(masked_text, top_k=100)\n",
    "        \n",
    "        dist = round(abs(dist_func(ref_context_tokens, pos_context_tokens)), 2)\n",
    "        \n",
    "        result[\"tokens\"].append(tokens[i])\n",
    "        result[\"dists\"].append(dist)\n",
    "    \n",
    "    result[\"norm_dists\"] = [round(d, 2) for d in sklearn.preprocessing.normalize([result[\"dists\"]])[0]]\n",
    "    \n",
    "    for token, dist, norm_dist in zip(result[\"tokens\"], result[\"dists\"], result[\"norm_dists\"]):\n",
    "        print(f\"{token} - {dist} ({norm_dist})\")\n",
    "    \n",
    "    sns.set_context(\"paper\", font_scale=1.3)\n",
    "    \n",
    "    plt.figure(figsize=(15, 3))\n",
    "    sns.lineplot(x=result[\"tokens\"], y=result[\"norm_dists\"]).set_title(\"Distances to ref. context\")"
   ]
  },
  {
   "cell_type": "code",
   "execution_count": 7,
   "id": "bd11080c",
   "metadata": {},
   "outputs": [],
   "source": [
    "def jaro_dist_func(ref_context_tokens, pos_context_tokens):\n",
    "    dist = 1 - textdistance.jaro(\n",
    "        [t[\"token\"] for t in ref_context_tokens],\n",
    "        [t[\"token\"] for t in pos_context_tokens]\n",
    "    )\n",
    "    \n",
    "    return dist"
   ]
  },
  {
   "cell_type": "markdown",
   "id": "a6d17013",
   "metadata": {},
   "source": [
    "### Jaro-Winkler distances for Russian text"
   ]
  },
  {
   "cell_type": "markdown",
   "id": "5dad639e",
   "metadata": {},
   "source": [
    "Now let’s suppose we need to parse the following Russian text: \"*В аренду предлагается 1к квартирка, в которой есть 2к холодильник*\"\n",
    "\n",
    "Let’s calculate differences between the reference context and contexts in each text position. For this purpose, we use the Jaro-Winkler distance function."
   ]
  },
  {
   "cell_type": "code",
   "execution_count": 8,
   "id": "45344199",
   "metadata": {},
   "outputs": [
    {
     "name": "stdout",
     "output_type": "stream",
     "text": [
      "В - 1.0 (0.42)\n",
      "аренду - 0.76 (0.32)\n",
      "предлагается - 0.69 (0.29)\n",
      "1к - 0.47 (0.2)\n",
      "квартирка - 0.72 (0.31)\n",
      "в - 0.81 (0.34)\n",
      "которой - 0.66 (0.28)\n",
      "есть - 0.82 (0.35)\n",
      "2к - 0.74 (0.31)\n",
      "холодильник - 0.66 (0.28)\n"
     ]
    },
    {
     "data": {
      "image/png": "[encoded data removed]",
      "text/plain": [
       "<Figure size 1080x216 with 1 Axes>"
      ]
     },
     "metadata": {
      "needs_background": "light"
     },
     "output_type": "display_data"
    }
   ],
   "source": [
    "text = \"В аренду предлагается 1к квартирка, в которой есть 2к холодильник\"\n",
    "parse_text(text, fill_mask_ru, ref_context_tokens_ru, jaro_dist_func)"
   ]
  },
  {
   "cell_type": "markdown",
   "id": "00399aad",
   "metadata": {},
   "source": [
    "Taking into account the obtained distance values, it is obvious that the desired value is most likely in the position where the \"1к\" token is located. The position is correct, even though the analyzed text does not contain the \"Сдается\" word from the reference context, and \"квартира\" has slightly changed. The normalized distance difference between rival wrong “2к” and correct “1к\" positions is about 0.11."
   ]
  },
  {
   "cell_type": "markdown",
   "id": "a7320de5",
   "metadata": {},
   "source": [
    "### Setup reference context for English example"
   ]
  },
  {
   "cell_type": "markdown",
   "id": "cab6c109",
   "metadata": {},
   "source": [
    "Now let's complicate the task, let's assume we need to extract a price value from very fuzzy text of a rental ad in English. First of all, we need to set up a reference context"
   ]
  },
  {
   "cell_type": "code",
   "execution_count": 9,
   "id": "95e3f4dc",
   "metadata": {},
   "outputs": [],
   "source": [
    "context_text = \"\"\"\n",
    "Price <mask>\n",
    "\"\"\"\n",
    "ref_context_tokens_en = fill_mask_en(context_text, top_k=100)"
   ]
  },
  {
   "cell_type": "markdown",
   "id": "05f8cdab",
   "metadata": {},
   "source": [
    "### Jaro-Winkler distances for English text"
   ]
  },
  {
   "cell_type": "markdown",
   "id": "2607353e",
   "metadata": {},
   "source": [
    "Let’s suppose we need to analyze (extract price) the following English text: \"*Nice townhouse, 1000 sq ft 3000 monthly*\".\n",
    "\n",
    "By analogy with the Russian example, let’s calculate the differences between reference and positions contexts"
   ]
  },
  {
   "cell_type": "code",
   "execution_count": 10,
   "id": "0a69e57b",
   "metadata": {},
   "outputs": [
    {
     "name": "stdout",
     "output_type": "stream",
     "text": [
      "Nice - 0.72 (0.39)\n",
      "townhouse - 0.74 (0.4)\n",
      "1000 - 0.66 (0.36)\n",
      "sq - 0.77 (0.42)\n",
      "ft - 0.65 (0.35)\n",
      "3000 - 0.61 (0.33)\n",
      "monthly - 0.71 (0.39)\n"
     ]
    },
    {
     "data": {
      "image/png": "[encoded data removed]",
      "text/plain": [
       "<Figure size 1080x216 with 1 Axes>"
      ]
     },
     "metadata": {
      "needs_background": "light"
     },
     "output_type": "display_data"
    }
   ],
   "source": [
    "text = \"Nice townhouse, 1000 sq ft 3000 monthly\"\n",
    "parse_text(text, fill_mask_en, ref_context_tokens_en, jaro_dist_func)"
   ]
  },
  {
   "cell_type": "markdown",
   "id": "1ebfe6ea",
   "metadata": {},
   "source": [
    "The minimum distance is in the correct position, where the “3000” token is located. The normalized distance difference between rival wrong “1000” and correct “3000” is about 0.03."
   ]
  },
  {
   "cell_type": "markdown",
   "id": "c8c21927",
   "metadata": {},
   "source": [
    "### Custom distance function"
   ]
  },
  {
   "cell_type": "markdown",
   "id": "471d07f4",
   "metadata": {},
   "source": [
    "The Jaro-Winkler distance uses token position, but it does not take into account probabilities. This leads to information loss. Let's use the following custom distance function that doesn't have this drawback."
   ]
  },
  {
   "cell_type": "code",
   "execution_count": 11,
   "id": "789915eb",
   "metadata": {},
   "outputs": [],
   "source": [
    "def custom_dist_func(ref_context_tokens, pos_context_tokens):    \n",
    "    ref_context_tokens = {t[\"token\"]:t[\"score\"] for t in ref_context_tokens}\n",
    "    pos_context_tokens = {t[\"token\"]:t[\"score\"] for t in pos_context_tokens}\n",
    "    \n",
    "    dist = 0\n",
    "\n",
    "    for item in ref_context_tokens:\n",
    "        if item not in pos_context_tokens:\n",
    "            dist += ref_context_tokens[item]\n",
    "        else:\n",
    "            dist += ref_context_tokens[item] - pos_context_tokens[item]\n",
    "\n",
    "    return dist"
   ]
  },
  {
   "cell_type": "markdown",
   "id": "7cba2d08",
   "metadata": {},
   "source": [
    "### Custom distance function for Russian text"
   ]
  },
  {
   "cell_type": "code",
   "execution_count": 12,
   "id": "17e8a3bf",
   "metadata": {},
   "outputs": [
    {
     "name": "stdout",
     "output_type": "stream",
     "text": [
      "В - 0.98 (0.38)\n",
      "аренду - 0.98 (0.38)\n",
      "предлагается - 0.95 (0.37)\n",
      "1к - 0.03 (0.01)\n",
      "квартирка - 0.12 (0.05)\n",
      "в - 0.45 (0.17)\n",
      "которой - 0.98 (0.38)\n",
      "есть - 0.98 (0.38)\n",
      "2к - 0.92 (0.36)\n",
      "холодильник - 0.93 (0.36)\n"
     ]
    },
    {
     "data": {
      "image/png": "[encoded data removed]",
      "text/plain": [
       "<Figure size 1080x216 with 1 Axes>"
      ]
     },
     "metadata": {
      "needs_background": "light"
     },
     "output_type": "display_data"
    }
   ],
   "source": [
    "text = \"В аренду предлагается 1к квартирка, в которой есть 2к холодильник\"\n",
    "parse_text(text, fill_mask_ru, ref_context_tokens_ru, custom_dist_func)"
   ]
  },
  {
   "cell_type": "markdown",
   "id": "00e532ea",
   "metadata": {},
   "source": [
    "The normalized distance difference between rival wrong “2к” and correct “1к\" positions is about 0.35. We are interested in distinguishing them as much as possible. So it is a much better result comparing with Jaro- Winkler’s 0.11."
   ]
  },
  {
   "cell_type": "markdown",
   "id": "bd3b8634",
   "metadata": {},
   "source": [
    "### Custom distance function for English text"
   ]
  },
  {
   "cell_type": "code",
   "execution_count": 13,
   "id": "dba1d902",
   "metadata": {},
   "outputs": [
    {
     "name": "stdout",
     "output_type": "stream",
     "text": [
      "Nice - 0.62 (0.46)\n",
      "townhouse - 0.18 (0.13)\n",
      "1000 - 0.58 (0.43)\n",
      "sq - 0.67 (0.49)\n",
      "ft - 0.6 (0.44)\n",
      "3000 - 0.06 (0.04)\n",
      "monthly - 0.52 (0.38)\n"
     ]
    },
    {
     "data": {
      "image/png": "[encoded data removed]",
      "text/plain": [
       "<Figure size 1080x216 with 1 Axes>"
      ]
     },
     "metadata": {
      "needs_background": "light"
     },
     "output_type": "display_data"
    }
   ],
   "source": [
    "text = \"\"\"\n",
    "Nice townhouse, 1000 sq ft 3000 monthly\n",
    "\"\"\"\n",
    "parse_text(text, fill_mask_en, ref_context_tokens_en, custom_dist_func)"
   ]
  },
  {
   "cell_type": "markdown",
   "id": "3fdc77fc",
   "metadata": {},
   "source": [
    "The normalized distance difference between rival values is about 0.3. So it is a 10 times better result comparing with Jaro-Winkler’s 0.03."
   ]
  },
  {
   "cell_type": "markdown",
   "id": "f0b491e8",
   "metadata": {},
   "source": [
    "## Hypothesis testing"
   ]
  },
  {
   "cell_type": "markdown",
   "id": "8a513ace",
   "metadata": {},
   "source": [
    "If we claim that distances between the reference context and correct positions differ from the distances for the wrong positions, we should rely on statistical hypothesis tests. Let’s analyze the distributions for both distance sets using a dataset having 20K+ documents."
   ]
  },
  {
   "cell_type": "markdown",
   "id": "38e2ca8e",
   "metadata": {},
   "source": [
    "### Calculate distances to the reference context for right and wrong positions"
   ]
  },
  {
   "cell_type": "code",
   "execution_count": 14,
   "id": "10cd5b4e",
   "metadata": {},
   "outputs": [
    {
     "data": {
      "text/plain": [
       "23055"
      ]
     },
     "execution_count": 14,
     "metadata": {},
     "output_type": "execute_result"
    }
   ],
   "source": [
    "with open(\"./datasets/ru_rooms_num.json\", \"r\") as fh:\n",
    "    docs = json.load(fh)\n",
    "\n",
    "len(docs)"
   ]
  },
  {
   "cell_type": "code",
   "execution_count": 15,
   "id": "a3888508",
   "metadata": {},
   "outputs": [
    {
     "name": "stdout",
     "output_type": "stream",
     "text": [
      "[{'right_pos': 2,\n",
      "  'right_token': 'однокомн',\n",
      "  'text': 'PHONE Сдам однокомн квартиру желательно на длительный срок в центре '\n",
      "          'города. В квартире есть все для комфортного проживания. Вся мебель '\n",
      "          'и техника есть в квартире. Возможно проживание с детьми и / или с '\n",
      "          'животными. Рассмотрю всех платежеспособных.звоните PHONE , фото '\n",
      "          'отправлю в лс.'},\n",
      " {'right_pos': 1,\n",
      "  'right_token': 'однокомнатную',\n",
      "  'text': 'Сдаю однокомнатную квартиру на длительный срок. Пирогова 1к3 Мебель '\n",
      "          'и техника все остаются, в рабочем состоянии. 6.500 руб/месяц, '\n",
      "          'залога нет, свет+вода оплачиваются отдельно по счетчикам. '\n",
      "          'Рассматриваю всех желающих. Есть WhаtsАрр. PHONE'},\n",
      " {'right_pos': 15,\n",
      "  'right_token': '1комн',\n",
      "  'text': 'Москва, район Восточное Измайлово, 16-я Парковая улица, 19к1. '\n",
      "          'Ближайшее метро Первомайская 6мин.трансп. Сдам 1комн квартиру по '\n",
      "          'отличной цене. Транспорт до метро ходит по расписанию. Ремонт '\n",
      "          'делали для себя. Отремонтированный балкон. 2к холодильник. Имеется '\n",
      "          'стиральная машина. Собственник отдает предпочтение славянам. Строго '\n",
      "          'семейной паре. Стоимость: 20000. Звонить по тел. PHONE'},\n",
      " {'right_pos': 2,\n",
      "  'right_token': '1комн',\n",
      "  'text': 'Сдается отличная 1комн квартира. На дополнительный транспорт '\n",
      "          'тратить деньги не придется, так как рядом станция метро. Ремонт '\n",
      "          'недавно освежили. Балкон имеется. Есть холодильник. Имеется '\n",
      "          'стиральная машина. Исключительно славянам. По цене: 45000. '\n",
      "          'Местонахождение объекта: Москва, Хорошевский район, Чапаевский '\n",
      "          'переулок, 5к1. До ближайшего метро Аэропорт 12мин.пеш. Звоните по '\n",
      "          'тел. PHONE'},\n",
      " {'right_pos': 1,\n",
      "  'right_token': '3комн',\n",
      "  'text': 'Сдается 3комн квартира в хорошем районе с развитой инфраструктурой. '\n",
      "          'Совсем рядом с домом метро. Выполнен качественный евроремонт. Есть '\n",
      "          'балкон. 2к холодильник. Новая стиральная машина. Сдаю только '\n",
      "          'славянам. Семейной паре РФ. Цена: 55000. Местонахождение: Москва, '\n",
      "          'район Измайлово, Верхняя Первомайская улица, 24/17. Ближайшее метро '\n",
      "          'Первомайская 8мин.пеш. Звоните по тел. PHONE'}]\n"
     ]
    }
   ],
   "source": [
    "pprint(docs[:5])"
   ]
  },
  {
   "cell_type": "code",
   "execution_count": 16,
   "id": "64cd004d",
   "metadata": {},
   "outputs": [
    {
     "data": {
      "application/vnd.jupyter.widget-view+json": {
       "model_id": "fd54399660b543e297b661cb86f9bd9c",
       "version_major": 2,
       "version_minor": 0
      },
      "text/plain": [
       "  0%|          | 0/23055 [00:00<?, ?it/s]"
      ]
     },
     "metadata": {},
     "output_type": "display_data"
    }
   ],
   "source": [
    "right_pos_dists = []\n",
    "wrong_pos_dists = []\n",
    "\n",
    "for doc in tqdm(docs):\n",
    "    tokens = re.split(r\"\\W+\", doc[\"text\"])\n",
    "\n",
    "    right_pos = doc[\"right_pos\"]\n",
    "    wrong_pos = None\n",
    "\n",
    "    while True:\n",
    "        wrong_pos = random.randrange(len(tokens))\n",
    "\n",
    "        if wrong_pos != right_pos and tokens[wrong_pos].isalnum():\n",
    "            break\n",
    "\n",
    "    right_pos_tokens = fill_mask_ru(\n",
    "        \"\".join([tokens[i] if i != right_pos else \"<mask>\" for i in range(len(tokens))]),\n",
    "        top_k=100\n",
    "    )\n",
    "    \n",
    "    right_pos_dist = custom_dist_func(ref_context_tokens_ru, right_pos_tokens)    \n",
    "        \n",
    "    wrong_pos_tokens = fill_mask_ru(\n",
    "        \"\".join([tokens[i] if i != wrong_pos else \"<mask>\" for i in range(len(tokens))]),\n",
    "        top_k=100\n",
    "    )\n",
    "\n",
    "    wrong_pos_dist = custom_dist_func(ref_context_tokens_ru, wrong_pos_tokens)\n",
    "    \n",
    "    right_pos_dists.append(right_pos_dist)\n",
    "    wrong_pos_dists.append(wrong_pos_dist)"
   ]
  },
  {
   "cell_type": "markdown",
   "id": "d05d28db",
   "metadata": {},
   "source": [
    "### Distribution of distances between the reference context and correct positions"
   ]
  },
  {
   "cell_type": "code",
   "execution_count": 17,
   "id": "885db791",
   "metadata": {},
   "outputs": [
    {
     "data": {
      "text/plain": [
       "<AxesSubplot:>"
      ]
     },
     "execution_count": 17,
     "metadata": {},
     "output_type": "execute_result"
    },
    {
     "data": {
      "image/png": "[encoded data removed]",
      "text/plain": [
       "<Figure size 1440x288 with 1 Axes>"
      ]
     },
     "metadata": {
      "needs_background": "light"
     },
     "output_type": "display_data"
    }
   ],
   "source": [
    "plt.figure(figsize=(20, 4))\n",
    "pd.Series(right_pos_dists).hist(bins=100)"
   ]
  },
  {
   "cell_type": "markdown",
   "id": "1c8f38ad",
   "metadata": {},
   "source": [
    "### Distribution of distances between the reference context and wrong positions"
   ]
  },
  {
   "cell_type": "code",
   "execution_count": 18,
   "id": "d5d8045d",
   "metadata": {
    "scrolled": true
   },
   "outputs": [
    {
     "data": {
      "text/plain": [
       "<AxesSubplot:>"
      ]
     },
     "execution_count": 18,
     "metadata": {},
     "output_type": "execute_result"
    },
    {
     "data": {
      "image/png": "[encoded data removed]",
      "text/plain": [
       "<Figure size 1440x288 with 1 Axes>"
      ]
     },
     "metadata": {
      "needs_background": "light"
     },
     "output_type": "display_data"
    }
   ],
   "source": [
    "plt.figure(figsize=(20, 4))\n",
    "pd.Series(wrong_pos_dists).hist(bins=100)"
   ]
  },
  {
   "cell_type": "markdown",
   "id": "f9849d58",
   "metadata": {},
   "source": [
    "The distribution of distances on the above figures shows that they are probably not normally distributed, given their high asymmetry (skewness)."
   ]
  },
  {
   "cell_type": "markdown",
   "id": "20d28d96",
   "metadata": {},
   "source": [
    "### Shapiro-Wilk tests for normality"
   ]
  },
  {
   "cell_type": "code",
   "execution_count": 19,
   "id": "c3198b1d",
   "metadata": {},
   "outputs": [
    {
     "data": {
      "text/plain": [
       "ShapiroResult(statistic=0.9075760841369629, pvalue=3.836018378506276e-24)"
      ]
     },
     "execution_count": 19,
     "metadata": {},
     "output_type": "execute_result"
    }
   ],
   "source": [
    "# p-value may not be accurate for big N, so 1000 limit here\n",
    "scipy.stats.shapiro(right_pos_dists[:1000])"
   ]
  },
  {
   "cell_type": "code",
   "execution_count": 20,
   "id": "35a489ce",
   "metadata": {},
   "outputs": [
    {
     "data": {
      "text/plain": [
       "ShapiroResult(statistic=0.888763427734375, pvalue=3.2588774604029126e-26)"
      ]
     },
     "execution_count": 20,
     "metadata": {},
     "output_type": "execute_result"
    }
   ],
   "source": [
    "scipy.stats.shapiro(wrong_pos_dists[:1000])"
   ]
  },
  {
   "cell_type": "markdown",
   "id": "d92caa29",
   "metadata": {},
   "source": [
    "p-value considerably less than the 0.05 threshold for both sets, which confirms that the distributions are not normal. Therefore, since we need to compare the means of two samples, we should use the Mann-Whitney U test"
   ]
  },
  {
   "cell_type": "markdown",
   "id": "927bc528",
   "metadata": {},
   "source": [
    "### Mann-Whitney U test to confirm the similar contexts hypothesis"
   ]
  },
  {
   "cell_type": "markdown",
   "id": "9fc36cfb",
   "metadata": {},
   "source": [
    "*There are two possible outcomes: if the result confirms the hypothesis, then you’ve made a measurement. If the result is contrary to the hypothesis, then you’ve made a discovery (Enrico Fermi)*"
   ]
  },
  {
   "cell_type": "markdown",
   "id": "a230e5d0",
   "metadata": {},
   "source": [
    "To prove the concept, we should confirm that distances in right positions are less than in wrong ones. So we need to reject the opposite meaning. Let us set the null hypothesis that distances in wrong positions are equal or less than in right ones."
   ]
  },
  {
   "cell_type": "markdown",
   "id": "51767d23",
   "metadata": {},
   "source": [
    "$H_0: \\mu_{wrong} \\leq \\mu_{right}$ (distances in wrong positions are equal or less than in right ones)"
   ]
  },
  {
   "cell_type": "markdown",
   "id": "8ac3d2fc",
   "metadata": {},
   "source": [
    "$H_1: \\mu_{wrong} > \\mu_{right}$ (distances in wrong positions are more than in right ones)"
   ]
  },
  {
   "cell_type": "code",
   "execution_count": 21,
   "id": "a281f960",
   "metadata": {},
   "outputs": [
    {
     "data": {
      "text/plain": [
       "MannwhitneyuResult(statistic=281863.0, pvalue=2.5519834325211202e-64)"
      ]
     },
     "execution_count": 21,
     "metadata": {},
     "output_type": "execute_result"
    }
   ],
   "source": [
    "scipy.stats.mannwhitneyu(right_pos_dists[:1000], wrong_pos_dists[:1000], alternative='less')"
   ]
  },
  {
   "cell_type": "markdown",
   "id": "c0ef8890",
   "metadata": {},
   "source": [
    "p-value considerably less than the 0.05 threshold. So we reject the null hypothesis in favor of the alternative one. We proved a statistically significant difference between the distances for right and wrong positions, and **for the right positions, the distances are incredibly smaller**."
   ]
  }
 ],
 "metadata": {
  "kernelspec": {
   "display_name": "Python 3",
   "language": "python",
   "name": "python3"
  },
  "language_info": {
   "codemirror_mode": {
    "name": "ipython",
    "version": 3
   },
   "file_extension": ".py",
   "mimetype": "text/x-python",
   "name": "python",
   "nbconvert_exporter": "python",
   "pygments_lexer": "ipython3",
   "version": "3.9.0"
  }
 },
 "nbformat": 4,
 "nbformat_minor": 5
}
