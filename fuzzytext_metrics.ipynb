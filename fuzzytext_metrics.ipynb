{
 "cells": [
  {
   "cell_type": "code",
   "execution_count": 1,
   "id": "f4732dba",
   "metadata": {},
   "outputs": [],
   "source": [
    "import json\n",
    "import matplotlib.pyplot as plt\n",
    "import numpy as np\n",
    "import pandas as pd\n",
    "import re\n",
    "import seaborn as sns\n",
    "import textdistance\n",
    "import torch\n",
    "import warnings\n",
    "\n",
    "from tqdm.auto import tqdm\n",
    "from transformers import logging as transformers_logging\n",
    "\n",
    "import sys\n",
    "sys.path.insert(0,'../fuzzytext/src')\n",
    "\n",
    "from fuzzytext import LanguageModel, Extractor"
   ]
  },
  {
   "cell_type": "code",
   "execution_count": 2,
   "id": "7d76fda2",
   "metadata": {},
   "outputs": [],
   "source": [
    "warnings.filterwarnings('ignore')\n",
    "transformers_logging.set_verbosity_error()"
   ]
  },
  {
   "cell_type": "markdown",
   "id": "3ea60262",
   "metadata": {},
   "source": [
    "### Download N-grams model trained on Russian rental ads"
   ]
  },
  {
   "cell_type": "code",
   "execution_count": 3,
   "id": "9e168456",
   "metadata": {},
   "outputs": [],
   "source": [
    "! mkdir -p models/ngrams/ru_rent_estate_ads\n",
    "! wget --quiet --no-clobber -P models/ngrams/ru_rent_estate_ads https://github.com/ralan/fuzzytext_models/raw/master/ngrams/ru_rent_estate_ads/2grams.pkl\n",
    "! wget --quiet --no-clobber -P models/ngrams/ru_rent_estate_ads https://github.com/ralan/fuzzytext_models/raw/master/ngrams/ru_rent_estate_ads/3grams.pkl"
   ]
  },
  {
   "cell_type": "markdown",
   "id": "3fc584ea",
   "metadata": {},
   "source": [
    "### Setup reference context and reference values for rooms number exctracting"
   ]
  },
  {
   "cell_type": "code",
   "execution_count": 4,
   "id": "a5a655e2",
   "metadata": {},
   "outputs": [],
   "source": [
    "reference_context=(\"сдается * квартира\", \"сдам * квартиру\")"
   ]
  },
  {
   "cell_type": "code",
   "execution_count": 5,
   "id": "ea6113e9",
   "metadata": {},
   "outputs": [],
   "source": [
    "reference_values=[\n",
    "    {\n",
    "        \"value\": \"однокомнатная\",\n",
    "        \"alternatives\": [\"1-комнатная\"],\n",
    "    },\n",
    "    {\n",
    "        \"value\": \"двухкомнатная\",\n",
    "        \"alternatives\": [\"2-комнатная\"],\n",
    "    },\n",
    "    {\n",
    "        \"value\": \"трехкомнатная\",\n",
    "        \"alternatives\": [\"3-комнатная\"],\n",
    "    },\n",
    "    {\n",
    "        \"value\": \"четырехкомнатная\",\n",
    "        \"alternatives\": [\"4-комнатная\"],\n",
    "    },\n",
    "    {\n",
    "        \"value\": \"пятикомнатная\",\n",
    "        \"alternatives\": [\"5-комнатная\"],\n",
    "    },\n",
    "]"
   ]
  },
  {
   "cell_type": "markdown",
   "id": "52920efb",
   "metadata": {},
   "source": [
    "### Setup rooms number exctractor based on N-grams and Transformers (RoBERTa) models"
   ]
  },
  {
   "cell_type": "markdown",
   "id": "8882d282",
   "metadata": {},
   "source": [
    "The RoBERTa model trained on Russian rental ads is located at the Hugging Face public repository (https://huggingface.co/rafagudinov/ru_rent_estate_ads). So it will be automatically downloaded."
   ]
  },
  {
   "cell_type": "code",
   "execution_count": 6,
   "id": "9a0a4731",
   "metadata": {},
   "outputs": [],
   "source": [
    "lm_roberta = LanguageModel(\n",
    "    model_type=\"transformers\",\n",
    "    model_path=\"rafagudinov/ru_rent_estate_ads\",\n",
    "    device=(0 if torch.cuda.is_available() else -1)\n",
    ")\n",
    "\n",
    "fuzzytext_extractor_roberta = Extractor(\n",
    "    language_model=lm_roberta,\n",
    "    reference_context=reference_context,\n",
    "    reference_values=reference_values\n",
    ")"
   ]
  },
  {
   "cell_type": "code",
   "execution_count": 7,
   "id": "1f67c4b9",
   "metadata": {},
   "outputs": [],
   "source": [
    "lm_ngrams = LanguageModel(\n",
    "    model_type=\"ngrams\",\n",
    "    model_path=\"models/ngrams/ru_rent_estate_ads\",\n",
    "    lowercase=True\n",
    ")\n",
    "\n",
    "fuzzytext_extractor_ngrams = Extractor(\n",
    "    language_model=lm_ngrams,\n",
    "    reference_context=reference_context,\n",
    "    reference_values=reference_values\n",
    ")"
   ]
  },
  {
   "cell_type": "markdown",
   "id": "7077ad63",
   "metadata": {},
   "source": [
    "### Setup baseline rooms number exctractor based on edit distance"
   ]
  },
  {
   "cell_type": "code",
   "execution_count": 8,
   "id": "085ac83f",
   "metadata": {},
   "outputs": [],
   "source": [
    "def baseline_extractor(text):    \n",
    "    tokens = re.split(r\"\\W+\", text)\n",
    "\n",
    "    variants = []\n",
    "\n",
    "    for i in range(len(tokens)):\n",
    "        variants.append({\"pos\": i, \"value\": tokens[i]})\n",
    "    \n",
    "    result = []\n",
    "\n",
    "    min_distance = float(\"inf\")\n",
    "\n",
    "    for i in range(len(variants)):\n",
    "        for reference_value in reference_values:\n",
    "            values = [reference_value[\"value\"]]\n",
    "\n",
    "            if reference_value.get(\"alternatives\"):\n",
    "                values += reference_value[\"alternatives\"]\n",
    "\n",
    "            for value in values:\n",
    "                distance = 1 - textdistance.jaro(variants[i][\"value\"], value)\n",
    "\n",
    "                if distance < min_distance:\n",
    "                    min_distance = distance\n",
    "                    result = []\n",
    "\n",
    "                if distance > min_distance:\n",
    "                    continue\n",
    "\n",
    "                variants[i][\"reference_value\"] = reference_value[\"value\"]\n",
    "\n",
    "                result.append(variants[i])\n",
    "\n",
    "    return result"
   ]
  },
  {
   "cell_type": "markdown",
   "id": "0986a4bf",
   "metadata": {},
   "source": [
    "### Example with a single room number value (no collision)"
   ]
  },
  {
   "cell_type": "code",
   "execution_count": 9,
   "id": "762e8b48",
   "metadata": {},
   "outputs": [],
   "source": [
    "text_1 = \"В аренду предлагается трехком. квартира\""
   ]
  },
  {
   "cell_type": "code",
   "execution_count": 10,
   "id": "729df2f7",
   "metadata": {},
   "outputs": [
    {
     "data": {
      "text/plain": [
       "[{'pos': 3, 'value': 'трехком', 'reference_value': 'трехкомнатная'}]"
      ]
     },
     "execution_count": 10,
     "metadata": {},
     "output_type": "execute_result"
    }
   ],
   "source": [
    "baseline_extractor(text_1)"
   ]
  },
  {
   "cell_type": "code",
   "execution_count": 11,
   "id": "eec089bb",
   "metadata": {},
   "outputs": [
    {
     "data": {
      "text/plain": [
       "[{'pos': 3,\n",
       "  'value': 'трехком',\n",
       "  'reference_value': 'трехкомнатная',\n",
       "  'score': 0.8659005002938704}]"
      ]
     },
     "execution_count": 11,
     "metadata": {},
     "output_type": "execute_result"
    }
   ],
   "source": [
    "fuzzytext_extractor_ngrams(text_1)"
   ]
  },
  {
   "cell_type": "code",
   "execution_count": 12,
   "id": "e6f4175d",
   "metadata": {},
   "outputs": [
    {
     "data": {
      "text/plain": [
       "[{'pos': 3,\n",
       "  'value': 'трехком',\n",
       "  'reference_value': 'трехкомнатная',\n",
       "  'score': 0.8840204958238314}]"
      ]
     },
     "execution_count": 12,
     "metadata": {},
     "output_type": "execute_result"
    }
   ],
   "source": [
    "fuzzytext_extractor_roberta(text_1)"
   ]
  },
  {
   "cell_type": "markdown",
   "id": "9db6515f",
   "metadata": {},
   "source": [
    "### Example with two room number values (collision!)"
   ]
  },
  {
   "cell_type": "code",
   "execution_count": 13,
   "id": "f8204072",
   "metadata": {},
   "outputs": [],
   "source": [
    "text_2 = \"В аренду предлагается 1к квартира, в которой есть 2к холодильник\""
   ]
  },
  {
   "cell_type": "code",
   "execution_count": 14,
   "id": "ce0d5186",
   "metadata": {},
   "outputs": [
    {
     "data": {
      "text/plain": [
       "[{'pos': 3, 'value': '1к', 'reference_value': 'однокомнатная'},\n",
       " {'pos': 8, 'value': '2к', 'reference_value': 'двухкомнатная'}]"
      ]
     },
     "execution_count": 14,
     "metadata": {},
     "output_type": "execute_result"
    }
   ],
   "source": [
    "baseline_extractor(text_2)"
   ]
  },
  {
   "cell_type": "markdown",
   "id": "f9d00290",
   "metadata": {},
   "source": [
    "The baseline extractor can't select the correct value, as it does not take the context into account."
   ]
  },
  {
   "cell_type": "code",
   "execution_count": 15,
   "id": "2b33684b",
   "metadata": {},
   "outputs": [
    {
     "data": {
      "text/plain": [
       "[{'pos': 3,\n",
       "  'value': '1к',\n",
       "  'reference_value': 'однокомнатная',\n",
       "  'score': 0.7680127492799392}]"
      ]
     },
     "execution_count": 15,
     "metadata": {},
     "output_type": "execute_result"
    }
   ],
   "source": [
    "fuzzytext_extractor_ngrams(text_2)"
   ]
  },
  {
   "cell_type": "code",
   "execution_count": 16,
   "id": "c29651ad",
   "metadata": {},
   "outputs": [
    {
     "data": {
      "text/plain": [
       "[{'pos': 3,\n",
       "  'value': '1к',\n",
       "  'reference_value': 'однокомнатная',\n",
       "  'score': 0.7930524328850963}]"
      ]
     },
     "execution_count": 16,
     "metadata": {},
     "output_type": "execute_result"
    }
   ],
   "source": [
    "fuzzytext_extractor_roberta(text_2)"
   ]
  },
  {
   "cell_type": "markdown",
   "id": "9bf45d3e",
   "metadata": {},
   "source": [
    "Both FuzzyText extractors selected the correct value, as they take the context into account."
   ]
  },
  {
   "cell_type": "markdown",
   "id": "c7facddb",
   "metadata": {},
   "source": [
    "### Load dataset for tests and metrics"
   ]
  },
  {
   "cell_type": "code",
   "execution_count": 17,
   "id": "e625edf6",
   "metadata": {},
   "outputs": [],
   "source": [
    "with open(\"./datasets/ru_rooms_num.json\", \"r\") as fh:\n",
    "    docs = json.load(fh)\n",
    "    \n",
    "docs = docs[:1000]"
   ]
  },
  {
   "cell_type": "code",
   "execution_count": 18,
   "id": "86098a70",
   "metadata": {},
   "outputs": [
    {
     "data": {
      "text/plain": [
       "[{'text': 'PHONE Сдам однокомн квартиру желательно на длительный срок в центре города. В квартире есть все для комфортного проживания. Вся мебель и техника есть в квартире. Возможно проживание с детьми и / или с животными. Рассмотрю всех платежеспособных.звоните PHONE , фото отправлю в лс.',\n",
       "  'right_pos': 2,\n",
       "  'right_token': 'однокомн'},\n",
       " {'text': 'Сдаю однокомнатную квартиру на длительный срок. Пирогова 1к3 Мебель и техника все остаются, в рабочем состоянии. 6.500 руб/месяц, залога нет, свет+вода оплачиваются отдельно по счетчикам. Рассматриваю всех желающих. Есть WhаtsАрр. PHONE',\n",
       "  'right_pos': 1,\n",
       "  'right_token': 'однокомнатную'},\n",
       " {'text': 'Москва, район Восточное Измайлово, 16-я Парковая улица, 19к1. Ближайшее метро Первомайская 6мин.трансп. Сдам 1комн квартиру по отличной цене. Транспорт до метро ходит по расписанию. Ремонт делали для себя. Отремонтированный балкон. 2к холодильник. Имеется стиральная машина. Собственник отдает предпочтение славянам. Строго семейной паре. Стоимость: 20000. Звонить по тел. PHONE',\n",
       "  'right_pos': 15,\n",
       "  'right_token': '1комн'},\n",
       " {'text': 'Сдается отличная 1комн квартира. На дополнительный транспорт тратить деньги не придется, так как рядом станция метро. Ремонт недавно освежили. Балкон имеется. Есть холодильник. Имеется стиральная машина. Исключительно славянам. По цене: 45000. Местонахождение объекта: Москва, Хорошевский район, Чапаевский переулок, 5к1. До ближайшего метро Аэропорт 12мин.пеш. Звоните по тел. PHONE',\n",
       "  'right_pos': 2,\n",
       "  'right_token': '1комн'},\n",
       " {'text': 'Сдается 3комн квартира в хорошем районе с развитой инфраструктурой. Совсем рядом с домом метро. Выполнен качественный евроремонт. Есть балкон. 2к холодильник. Новая стиральная машина. Сдаю только славянам. Семейной паре РФ. Цена: 55000. Местонахождение: Москва, район Измайлово, Верхняя Первомайская улица, 24/17. Ближайшее метро Первомайская 8мин.пеш. Звоните по тел. PHONE',\n",
       "  'right_pos': 1,\n",
       "  'right_token': '3комн'}]"
      ]
     },
     "execution_count": 18,
     "metadata": {},
     "output_type": "execute_result"
    }
   ],
   "source": [
    "docs[:5]"
   ]
  },
  {
   "cell_type": "markdown",
   "id": "47f3fdcf",
   "metadata": {},
   "source": [
    "### Similarity/position scores ratio (*sp_ratio* parameter)"
   ]
  },
  {
   "cell_type": "code",
   "execution_count": 19,
   "id": "6a1bf3a3",
   "metadata": {},
   "outputs": [
    {
     "data": {
      "application/vnd.jupyter.widget-view+json": {
       "model_id": "779087fd9a134240b44484c201c4dee1",
       "version_major": 2,
       "version_minor": 0
      },
      "text/plain": [
       "  0%|          | 0/20 [00:00<?, ?it/s]"
      ]
     },
     "metadata": {},
     "output_type": "display_data"
    },
    {
     "data": {
      "application/vnd.jupyter.widget-view+json": {
       "model_id": "eb654710096b44129dde70ce537ef400",
       "version_major": 2,
       "version_minor": 0
      },
      "text/plain": [
       "  0%|          | 0/20 [00:00<?, ?it/s]"
      ]
     },
     "metadata": {},
     "output_type": "display_data"
    }
   ],
   "source": [
    "sp_ratio_stat = {}\n",
    "\n",
    "for extractor_id, extractor in enumerate((fuzzytext_extractor_ngrams, fuzzytext_extractor_roberta)):\n",
    "    sp_ratio_stat.setdefault(extractor_id, ([], []))\n",
    "\n",
    "    for sp_ratio in tqdm(np.arange(0, 1, 0.05)):\n",
    "        right_num = 0\n",
    "\n",
    "        for doc in docs:\n",
    "            extractor_result = extractor(doc[\"text\"], sp_ratio=sp_ratio, top_k=5)\n",
    "\n",
    "            if extractor_result[0][\"pos\"] == doc[\"right_pos\"]:\n",
    "                right_num += 1\n",
    "\n",
    "        sp_ratio_stat[extractor_id][0].append(sp_ratio)\n",
    "        sp_ratio_stat[extractor_id][1].append(right_num)"
   ]
  },
  {
   "cell_type": "markdown",
   "id": "a649a166",
   "metadata": {},
   "source": [
    "#### N-grams based extractor"
   ]
  },
  {
   "cell_type": "code",
   "execution_count": 20,
   "id": "f3203e28",
   "metadata": {},
   "outputs": [
    {
     "data": {
      "text/plain": [
       "<AxesSubplot:>"
      ]
     },
     "execution_count": 20,
     "metadata": {},
     "output_type": "execute_result"
    },
    {
     "data": {
      "image/png": "[encoded data removed]",
      "text/plain": [
       "<Figure size 1440x288 with 1 Axes>"
      ]
     },
     "metadata": {
      "needs_background": "light"
     },
     "output_type": "display_data"
    }
   ],
   "source": [
    "plt.figure(figsize=(20, 4))\n",
    "sns.lineplot(x=sp_ratio_stat[0][0], y=sp_ratio_stat[0][1])"
   ]
  },
  {
   "cell_type": "markdown",
   "id": "94cfad4e",
   "metadata": {},
   "source": [
    "#### RoBERTa based extractor"
   ]
  },
  {
   "cell_type": "code",
   "execution_count": 21,
   "id": "1d6fddc3",
   "metadata": {},
   "outputs": [
    {
     "data": {
      "text/plain": [
       "<AxesSubplot:>"
      ]
     },
     "execution_count": 21,
     "metadata": {},
     "output_type": "execute_result"
    },
    {
     "data": {
      "image/png": "[encoded data removed]",
      "text/plain": [
       "<Figure size 1440x288 with 1 Axes>"
      ]
     },
     "metadata": {
      "needs_background": "light"
     },
     "output_type": "display_data"
    }
   ],
   "source": [
    "plt.figure(figsize=(20, 4))\n",
    "sns.lineplot(x=sp_ratio_stat[1][0], y=sp_ratio_stat[1][1])"
   ]
  },
  {
   "cell_type": "markdown",
   "id": "85c6ad37",
   "metadata": {},
   "source": [
    "### Calculate accuracy for the baseline and both FuzzyText extractors (doc level)"
   ]
  },
  {
   "cell_type": "code",
   "execution_count": 22,
   "id": "ebf50d6a",
   "metadata": {},
   "outputs": [],
   "source": [
    "def calc_accuracy(extractor):\n",
    "    right_num = 0\n",
    "    \n",
    "    for doc in tqdm(docs):\n",
    "        results = extractor(doc[\"text\"])\n",
    "        \n",
    "        if len(results) != 1:\n",
    "            continue\n",
    "            \n",
    "        if results[0][\"pos\"] == doc[\"right_pos\"]:\n",
    "            right_num += 1\n",
    "\n",
    "    accuracy = right_num / len(docs)\n",
    "            \n",
    "    print(\"Accuracy:\", round(accuracy, 2))"
   ]
  },
  {
   "cell_type": "markdown",
   "id": "c1487f54",
   "metadata": {},
   "source": [
    "#### Baseline extractor"
   ]
  },
  {
   "cell_type": "code",
   "execution_count": 23,
   "id": "2071f91f",
   "metadata": {},
   "outputs": [
    {
     "data": {
      "application/vnd.jupyter.widget-view+json": {
       "model_id": "f642a54db37147dd985e155349e0488c",
       "version_major": 2,
       "version_minor": 0
      },
      "text/plain": [
       "  0%|          | 0/1000 [00:00<?, ?it/s]"
      ]
     },
     "metadata": {},
     "output_type": "display_data"
    },
    {
     "name": "stdout",
     "output_type": "stream",
     "text": [
      "Accuracy: 0.88\n"
     ]
    }
   ],
   "source": [
    "calc_accuracy(baseline_extractor)"
   ]
  },
  {
   "cell_type": "markdown",
   "id": "d3274f60",
   "metadata": {},
   "source": [
    "#### FuzzyText N-grams based extractor"
   ]
  },
  {
   "cell_type": "code",
   "execution_count": 24,
   "id": "c926096f",
   "metadata": {},
   "outputs": [
    {
     "data": {
      "application/vnd.jupyter.widget-view+json": {
       "model_id": "4b11e8a2d96b4934a1a4982d2bad10a1",
       "version_major": 2,
       "version_minor": 0
      },
      "text/plain": [
       "  0%|          | 0/1000 [00:00<?, ?it/s]"
      ]
     },
     "metadata": {},
     "output_type": "display_data"
    },
    {
     "name": "stdout",
     "output_type": "stream",
     "text": [
      "Accuracy: 0.94\n"
     ]
    }
   ],
   "source": [
    "calc_accuracy(fuzzytext_extractor_ngrams)"
   ]
  },
  {
   "cell_type": "markdown",
   "id": "2750c20f",
   "metadata": {},
   "source": [
    "#### FuzzyText RoBERTa based extractor"
   ]
  },
  {
   "cell_type": "code",
   "execution_count": 25,
   "id": "fb736084",
   "metadata": {},
   "outputs": [
    {
     "data": {
      "application/vnd.jupyter.widget-view+json": {
       "model_id": "1fbb2d8cbf3b45d7bb8d5b4c7bab00a6",
       "version_major": 2,
       "version_minor": 0
      },
      "text/plain": [
       "  0%|          | 0/1000 [00:00<?, ?it/s]"
      ]
     },
     "metadata": {},
     "output_type": "display_data"
    },
    {
     "name": "stdout",
     "output_type": "stream",
     "text": [
      "Accuracy: 0.96\n"
     ]
    }
   ],
   "source": [
    "calc_accuracy(fuzzytext_extractor_roberta)"
   ]
  },
  {
   "cell_type": "markdown",
   "id": "d7606aa5",
   "metadata": {},
   "source": [
    "### Calculate F1-score for the baseline and both FuzzyText extractors (token level)"
   ]
  },
  {
   "cell_type": "code",
   "execution_count": 26,
   "id": "219f492e",
   "metadata": {},
   "outputs": [],
   "source": [
    "def calc_f1_score(extractor):\n",
    "    TP = 0\n",
    "    TN = 0\n",
    "    FP = 0\n",
    "    FN = 0\n",
    "    \n",
    "    for doc in tqdm(docs):\n",
    "        TN += len(re.split(r\"\\W+\", doc[\"text\"]))\n",
    "        \n",
    "        results = extractor(doc[\"text\"])\n",
    "        \n",
    "        found_right_pos = False\n",
    "        \n",
    "        for result in results:            \n",
    "            if result[\"pos\"] == doc[\"right_pos\"]:\n",
    "                found_right_pos = True\n",
    "                TP += 1\n",
    "                TN -= 1\n",
    "            else:\n",
    "                FP += 1\n",
    "                TN -= 1\n",
    "\n",
    "        if not found_right_pos:\n",
    "            FN += 1\n",
    "            TN -= 1\n",
    "    \n",
    "    precision = TP / (TP + FP)\n",
    "    recall = TP / (TP + FN)\n",
    "    f1 = 2 * (precision * recall / (precision + recall))\n",
    "    \n",
    "    print(\"F1-score:\", round(f1, 2))"
   ]
  },
  {
   "cell_type": "markdown",
   "id": "22ed5df3",
   "metadata": {},
   "source": [
    "#### Baseline extractor"
   ]
  },
  {
   "cell_type": "code",
   "execution_count": 27,
   "id": "1f60515a",
   "metadata": {},
   "outputs": [
    {
     "data": {
      "application/vnd.jupyter.widget-view+json": {
       "model_id": "887897ffd721498bbb6317de4e49d5d5",
       "version_major": 2,
       "version_minor": 0
      },
      "text/plain": [
       "  0%|          | 0/1000 [00:00<?, ?it/s]"
      ]
     },
     "metadata": {},
     "output_type": "display_data"
    },
    {
     "name": "stdout",
     "output_type": "stream",
     "text": [
      "F1-score: 0.79\n"
     ]
    }
   ],
   "source": [
    "calc_f1_score(baseline_extractor)"
   ]
  },
  {
   "cell_type": "markdown",
   "id": "6875f472",
   "metadata": {},
   "source": [
    "#### FuzzyText N-grams based extractor"
   ]
  },
  {
   "cell_type": "code",
   "execution_count": 28,
   "id": "7b310416",
   "metadata": {},
   "outputs": [
    {
     "data": {
      "application/vnd.jupyter.widget-view+json": {
       "model_id": "5b91bcd3dac647d0b60a306605964fa9",
       "version_major": 2,
       "version_minor": 0
      },
      "text/plain": [
       "  0%|          | 0/1000 [00:00<?, ?it/s]"
      ]
     },
     "metadata": {},
     "output_type": "display_data"
    },
    {
     "name": "stdout",
     "output_type": "stream",
     "text": [
      "F1-score: 0.94\n"
     ]
    }
   ],
   "source": [
    "calc_f1_score(fuzzytext_extractor_ngrams)"
   ]
  },
  {
   "cell_type": "markdown",
   "id": "518635e4",
   "metadata": {},
   "source": [
    "#### FuzzyText RoBERTa based extractor"
   ]
  },
  {
   "cell_type": "code",
   "execution_count": 29,
   "id": "6ed8c933",
   "metadata": {},
   "outputs": [
    {
     "data": {
      "application/vnd.jupyter.widget-view+json": {
       "model_id": "7cee10c922ba4192a92cacb17937e54e",
       "version_major": 2,
       "version_minor": 0
      },
      "text/plain": [
       "  0%|          | 0/1000 [00:00<?, ?it/s]"
      ]
     },
     "metadata": {},
     "output_type": "display_data"
    },
    {
     "name": "stdout",
     "output_type": "stream",
     "text": [
      "F1-score: 0.96\n"
     ]
    }
   ],
   "source": [
    "calc_f1_score(fuzzytext_extractor_roberta)"
   ]
  },
  {
   "cell_type": "markdown",
   "id": "e5956154",
   "metadata": {},
   "source": [
    "## Price extracting from fuzzy text"
   ]
  },
  {
   "cell_type": "code",
   "execution_count": 30,
   "id": "1ba984cd",
   "metadata": {},
   "outputs": [],
   "source": [
    "reference_context = \"Цена *\"\n",
    "text = \"На Ленина 15 сдается квартира, 30000 + ку, звоните: 8(495)1234567\""
   ]
  },
  {
   "cell_type": "code",
   "execution_count": 31,
   "id": "9d68fae8",
   "metadata": {},
   "outputs": [
    {
     "data": {
      "text/plain": [
       "[{'pos': 5, 'value': '30000', 'score': 0.7797146228563306}]"
      ]
     },
     "execution_count": 31,
     "metadata": {},
     "output_type": "execute_result"
    }
   ],
   "source": [
    "price_extractor_ngrams = Extractor(\n",
    "    language_model=lm_ngrams,\n",
    "    reference_context=reference_context\n",
    ")\n",
    "\n",
    "price_extractor_ngrams.extract(text)"
   ]
  },
  {
   "cell_type": "code",
   "execution_count": 32,
   "id": "9adaf60b",
   "metadata": {},
   "outputs": [
    {
     "data": {
      "text/plain": [
       "[{'pos': 5, 'value': '30000', 'score': 0.8030004622795116}]"
      ]
     },
     "execution_count": 32,
     "metadata": {},
     "output_type": "execute_result"
    }
   ],
   "source": [
    "price_extractor_roberta = Extractor(\n",
    "    language_model=lm_roberta,\n",
    "    reference_context=reference_context\n",
    ")\n",
    "\n",
    "price_extractor_roberta.extract(text)"
   ]
  }
 ],
 "metadata": {
  "kernelspec": {
   "display_name": "Python 3",
   "language": "python",
   "name": "python3"
  },
  "language_info": {
   "codemirror_mode": {
    "name": "ipython",
    "version": 3
   },
   "file_extension": ".py",
   "mimetype": "text/x-python",
   "name": "python",
   "nbconvert_exporter": "python",
   "pygments_lexer": "ipython3",
   "version": "3.9.0"
  }
 },
 "nbformat": 4,
 "nbformat_minor": 5
}
